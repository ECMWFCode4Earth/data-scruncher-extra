{
 "cells": [
  {
   "cell_type": "markdown",
   "id": "2771ab29-7d03-4557-ac92-42b174eced85",
   "metadata": {},
   "source": [
    "# Compression Report"
   ]
  },
  {
   "cell_type": "code",
   "execution_count": null,
   "id": "7cfa81d1-67ad-4bd7-b7cf-a3e64aa9a106",
   "metadata": {
    "tags": []
   },
   "outputs": [],
   "source": [
    "import os\n",
    "import json \n",
    "import subprocess\n",
    "\n",
    "import xbitinfo as xb\n",
    "import xarray as xr"
   ]
  },
  {
   "cell_type": "markdown",
   "id": "15da6c90-f55d-4fcc-b8d6-cd06929a86c5",
   "metadata": {},
   "source": [
    "---"
   ]
  },
  {
   "cell_type": "code",
   "execution_count": null,
   "id": "018c06c1-1a91-41ab-886b-1790c823fbf5",
   "metadata": {},
   "outputs": [],
   "source": [
    "# load data\n",
    "path_to_data = 'data/data.nc'  # change this\n",
    "ds = xr.open_dataset(path_to_data)"
   ]
  },
  {
   "cell_type": "code",
   "execution_count": null,
   "id": "b9993604-e487-48d4-a305-00c7244f9c6a",
   "metadata": {},
   "outputs": [],
   "source": [
    "# get information content per bit\n",
    "info_per_bit = xb.get_bitinformation(ds, dim=\"longitude\", implementation=\"python\")\n",
    "# ?? dim\n",
    "# ipywidgets warnings"
   ]
  },
  {
   "cell_type": "code",
   "execution_count": null,
   "id": "cce238b7-4d97-4fb4-9bac-7bbf789db15a",
   "metadata": {
    "tags": []
   },
   "outputs": [],
   "source": [
    "# get keepbits\n",
    "keepbits = xb.get_keepbits(info_per_bit, 0.99)"
   ]
  },
  {
   "cell_type": "code",
   "execution_count": null,
   "id": "9fffae24-1b57-444a-89af-ed0d4cca8d63",
   "metadata": {
    "tags": []
   },
   "outputs": [],
   "source": [
    "# apply bitrounding\n",
    "ds_bitrounded = xb.xr_bitround(ds, keepbits)"
   ]
  },
  {
   "cell_type": "markdown",
   "id": "65cf1176-febd-410d-bca5-b6dcbeda7eea",
   "metadata": {},
   "source": [
    "---"
   ]
  },
  {
   "cell_type": "code",
   "execution_count": null,
   "id": "e1013f40-dad2-45fa-b64c-ea91568c71eb",
   "metadata": {
    "tags": []
   },
   "outputs": [],
   "source": [
    "def save_ncdf() -> None:\n",
    "    \"\"\"\n",
    "    Save dataset in NetCDF format\n",
    "    \"\"\"\n",
    "    # TODO: add prefix and in ds as params\n",
    "    ds_bitrounded.to_compressed_netcdf(\"bitrounded_compressed.nc\")\n",
    "    ds.to_compressed_netcdf(\"compressed.nc\")\n",
    "    ds.to_netcdf(\"original.nc\")"
   ]
  },
  {
   "cell_type": "code",
   "execution_count": null,
   "id": "7b932b37-793f-40cb-a4a0-7f78a967f63f",
   "metadata": {
    "tags": []
   },
   "outputs": [],
   "source": [
    "def save_zarr() -> None:\n",
    "    \"\"\"\n",
    "    Save dataset in Zarr format\n",
    "    \"\"\"\n",
    "    # TODO: add prefix and in ds as params\n",
    "    ds_bitrounded.to_compressed_zarr(\"bitrounded_compressed.zarr\", mode=\"w\")\n",
    "    ds.to_compressed_zarr(\"compressed.zarr\", mode=\"w\")\n",
    "    ds.to_zarr(\n",
    "        \"original.zarr\", mode=\"w\", \n",
    "        encoding={v: {\"compressor\": None} for v in ds.data_vars}\n",
    "    );"
   ]
  },
  {
   "cell_type": "code",
   "execution_count": null,
   "id": "e94e9fe3-646d-4134-9095-b45db165303e",
   "metadata": {
    "tags": []
   },
   "outputs": [],
   "source": [
    "def hsize(size: int, decimal_places: int=2) -> str:\n",
    "    \"\"\"\n",
    "    Size from bytes to human readable\n",
    "    \"\"\"\n",
    "    for unit in ['B', 'K', 'M', 'G', 'T', 'P']:\n",
    "        if size < 1024.0 or unit == 'P':\n",
    "            break\n",
    "        size /= 1024.0\n",
    "    return f\"{size:.{decimal_places}f} {unit}\""
   ]
  },
  {
   "cell_type": "markdown",
   "id": "9986fd60-048e-41e1-8193-52ef3432c2ea",
   "metadata": {},
   "source": [
    "---"
   ]
  },
  {
   "cell_type": "code",
   "execution_count": null,
   "id": "c2ce0371-4cb8-4575-b3f8-d3d602674f0a",
   "metadata": {
    "tags": []
   },
   "outputs": [],
   "source": [
    "save_ncdf()\n",
    "save_zarr()"
   ]
  },
  {
   "cell_type": "markdown",
   "id": "a3a0d2ec-9abe-4cf7-869d-d6fda6593d5f",
   "metadata": {},
   "source": [
    "---"
   ]
  },
  {
   "cell_type": "code",
   "execution_count": null,
   "id": "078a9afc-1b6a-498d-a5d0-dcc8024e69a4",
   "metadata": {
    "tags": []
   },
   "outputs": [],
   "source": [
    "def get_size(ext: str) -> dict:\n",
    "    \"\"\"\n",
    "    \"\"\"\n",
    "    sizes = subprocess.check_output(f'du -s *.{ext}', shell=True).decode(\"utf-8\")\n",
    "    sizes = sizes.replace('\\t', ';').replace('\\n', ';').split(';')\n",
    "    \n",
    "    shortnm = {\n",
    "        'bitrounded_compressed.zarr': 'bitr_comp', 'compressed.zarr': 'comp', 'original.zarr': 'ori',\n",
    "        'bitrounded_compressed.nc': 'bitr_comp', 'compressed.nc': 'comp', 'original.nc': 'ori',\n",
    "    }\n",
    "\n",
    "    output = {}\n",
    "    for i in range(0, len(sizes)-1, 2):\n",
    "        output[sizes[i + 1]] = int(sizes[i])\n",
    "        \n",
    "    for k in output.keys():\n",
    "        output[shortnm[k]] = output.pop(k)\n",
    "    \n",
    "    return output"
   ]
  },
  {
   "cell_type": "code",
   "execution_count": null,
   "id": "5b35d763-82b5-4a83-b83b-5de567793764",
   "metadata": {
    "tags": []
   },
   "outputs": [],
   "source": [
    "get_size('zarr')"
   ]
  },
  {
   "cell_type": "code",
   "execution_count": null,
   "id": "0b0dfd71-f7a7-4f74-ab96-d8b20717cade",
   "metadata": {
    "tags": []
   },
   "outputs": [],
   "source": [
    "get_size('nc')"
   ]
  },
  {
   "cell_type": "code",
   "execution_count": null,
   "id": "39b3f785-3aac-43f9-902a-292dbb7ed10c",
   "metadata": {
    "tags": []
   },
   "outputs": [],
   "source": [
    "import numpy as np\n",
    "\n",
    "def get_ratio(data: dict) -> dict:\n",
    "    \"\"\"\n",
    "    \"\"\"\n",
    "    original = data['ori']\n",
    "    \n",
    "    ratios = {}\n",
    "    \n",
    "    for k in data.keys():\n",
    "        ratios[k] = np.round(original / data[k])\n",
    "        \n",
    "    return ratios"
   ]
  },
  {
   "cell_type": "markdown",
   "id": "158cfd49-8f2f-4001-8670-d9901da67bba",
   "metadata": {},
   "source": [
    "---"
   ]
  },
  {
   "cell_type": "code",
   "execution_count": null,
   "id": "162c679d-daf4-4fe9-8cd4-2581a9c788b7",
   "metadata": {
    "tags": []
   },
   "outputs": [],
   "source": [
    "sdata = {\n",
    "    'ncdf': get_size('nc'),\n",
    "    'zarr': get_size('zarr')\n",
    "}"
   ]
  },
  {
   "cell_type": "code",
   "execution_count": null,
   "id": "4c6cd4f8-6ac3-4301-b73b-3035da2d110f",
   "metadata": {
    "tags": []
   },
   "outputs": [],
   "source": [
    "sdata"
   ]
  },
  {
   "cell_type": "code",
   "execution_count": null,
   "id": "52b0100a-0f37-4ec3-99d4-3c1d0c344990",
   "metadata": {
    "tags": []
   },
   "outputs": [],
   "source": [
    "get_ratio(sdata['ncdf'])"
   ]
  },
  {
   "cell_type": "code",
   "execution_count": null,
   "id": "6d3987d0-9f68-4c7a-b50f-614d75dd6be0",
   "metadata": {
    "tags": []
   },
   "outputs": [],
   "source": [
    "get_ratio(sdata['ncdf']).values()"
   ]
  },
  {
   "cell_type": "code",
   "execution_count": null,
   "id": "5d75774c-f9b7-45ec-b138-6703f17f7862",
   "metadata": {
    "tags": []
   },
   "outputs": [],
   "source": [
    "import pandas as pd\n",
    "\n",
    "df = pd.DataFrame(sdata)\n",
    "df"
   ]
  },
  {
   "cell_type": "markdown",
   "id": "bdcdc98b-da24-4b71-b955-b0daf7e0d612",
   "metadata": {},
   "source": [
    "---"
   ]
  },
  {
   "cell_type": "code",
   "execution_count": null,
   "id": "4b52f1a1-da99-4c22-b8d8-f64547172dd1",
   "metadata": {
    "tags": []
   },
   "outputs": [],
   "source": [
    "# TODO plotting func\n",
    "import matplotlib.pyplot as plt\n",
    "import seaborn as sns\n",
    "sns.set_style('dark')\n",
    "\n",
    "# plt.yscale('log')\n",
    "# ??\n",
    "plt.figure(figsize=(6,6))\n",
    "bar = plt.bar(df.index, df['ncdf'].values, alpha=.8)\n",
    "# TODO barh!\n",
    "plt.xlabel('Compression Method')\n",
    "plt.ylabel('Size')\n",
    "plt.title('NetCDF Compression Comparison')\n",
    "\n",
    "for rect, lbl in zip(bar, get_ratio(sdata['ncdf']).values()):\n",
    "    height = rect.get_height()\n",
    "    plt.text(rect.get_x() + rect.get_width() / 2.0, height, f'X {int(lbl)}',\n",
    "             ha='center', va='bottom', fontsize='medium', fontweight='heavy',\n",
    "             c = 'darkblue'\n",
    "    )\n",
    "\n",
    "plt.tight_layout()\n",
    "plt.show()"
   ]
  },
  {
   "cell_type": "code",
   "execution_count": null,
   "id": "9928ef52-ca7f-40da-8bb1-66532a0c17d9",
   "metadata": {
    "tags": []
   },
   "outputs": [],
   "source": [
    "plt.figure(figsize=(6,6))\n",
    "bar = plt.bar(df.index, df['zarr'].values, alpha=.8, color='r')\n",
    "# TODO barh!\n",
    "plt.xlabel('Compression Method')\n",
    "plt.ylabel('Size')\n",
    "plt.title('Zarr Compression Comparison')\n",
    "\n",
    "for rect, lbl in zip(bar, get_ratio(sdata['zarr']).values()):\n",
    "    height = rect.get_height()\n",
    "    plt.text(rect.get_x() + rect.get_width() / 2.0, height, f'X {int(lbl)}',\n",
    "             ha='center', va='bottom', fontsize='medium', fontweight='heavy',\n",
    "             c = 'darkred'\n",
    "    )\n",
    "\n",
    "plt.tight_layout()\n",
    "plt.show()"
   ]
  },
  {
   "cell_type": "code",
   "execution_count": null,
   "id": "7068d466-7cb1-4d1e-8afc-576f824ba00e",
   "metadata": {},
   "outputs": [],
   "source": [
    "# CLEAN\n",
    "!rm *.nc\n",
    "!rm -r *.zarr"
   ]
  },
  {
   "cell_type": "code",
   "execution_count": null,
   "id": "3b362d25-87d0-45e4-800a-ca5ff0bc607c",
   "metadata": {},
   "outputs": [],
   "source": [
    "# TODO multiple rounds of compression"
   ]
  }
 ],
 "metadata": {
  "kernelspec": {
   "display_name": "Python [conda env:bitinfo] *",
   "language": "python",
   "name": "conda-env-bitinfo-py"
  },
  "language_info": {
   "codemirror_mode": {
    "name": "ipython",
    "version": 3
   },
   "file_extension": ".py",
   "mimetype": "text/x-python",
   "name": "python",
   "nbconvert_exporter": "python",
   "pygments_lexer": "ipython3",
   "version": "3.11.3"
  }
 },
 "nbformat": 4,
 "nbformat_minor": 5
}
